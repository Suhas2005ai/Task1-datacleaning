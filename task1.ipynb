{
 "cells": [
  {
   "cell_type": "code",
   "execution_count": 15,
   "id": "8f4ea385",
   "metadata": {},
   "outputs": [
    {
     "name": "stdout",
     "output_type": "stream",
     "text": [
      "Original Shape: (200, 5)\n",
      "   CustomerID  Gender  Age  Annual Income (k$)  Spending Score (1-100)\n",
      "0           1    Male   19                  15                      39\n",
      "1           2    Male   21                  15                      81\n",
      "2           3  Female   20                  16                       6\n",
      "3           4  Female   23                  16                      77\n",
      "4           5  Female   31                  17                      40\n",
      "\n",
      "Missing Values:\n",
      " CustomerID                0\n",
      "Gender                    0\n",
      "Age                       0\n",
      "Annual Income (k$)        0\n",
      "Spending Score (1-100)    0\n",
      "dtype: int64\n",
      "\n",
      "Cleaned dataset saved as 'cleaned_mall_customers.csv'\n",
      "Final Shape: (200, 5)\n"
     ]
    }
   ],
   "source": [
    "import pandas as pd\n",
    "\n",
    "# Step 1: Load Dataset\n",
    "df = pd.read_csv(\"/Users/suhasgowdagr/Downloads/Mall_Customers.csv\")\n",
    "print(\"Original Shape:\", df.shape)\n",
    "print(df.head())\n",
    "\n",
    "# Step 2: Check Missing Values\n",
    "print(\"\\nMissing Values:\\n\", df.isnull().sum())\n",
    "\n",
    "# Handle missing values (drop rows with missing Age, Income, or Spending Score)\n",
    "df.dropna(subset=[\"Age\", \"Annual Income (k$)\", \"Spending Score (1-100)\"], inplace=True)\n",
    "# OR fill missing values if you prefer:\n",
    "# df[\"Age\"].fillna(df[\"Age\"].mean(), inplace=True)\n",
    "\n",
    "# Step 3: Remove Duplicates\n",
    "df.drop_duplicates(inplace=True)\n",
    "\n",
    "# Step 4: Standardize Text (Gender column)\n",
    "if \"Gender\" in df.columns:\n",
    "    df[\"Gender\"] = df[\"Gender\"].str.lower().str.strip()\n",
    "    df[\"Gender\"] = df[\"Gender\"].replace({\"m\": \"male\", \"f\": \"female\"})\n",
    "\n",
    "# Step 5: Convert Dates (no Date column in this dataset, so skipped)\n",
    "\n",
    "# Step 6: Fix Data Types (Age column)\n",
    "if \"Age\" in df.columns:\n",
    "    df[\"Age\"] = pd.to_numeric(df[\"Age\"], errors=\"coerce\").astype(\"Int64\")\n",
    "\n",
    "# Step 7: Rename Columns (lowercase, underscores)\n",
    "df.columns = df.columns.str.lower().str.replace(\" \", \"_\")\n",
    "\n",
    "# Step 8: Save Cleaned Dataset\n",
    "df.to_csv(\"/Users/suhasgowdagr/Downloads/cleaned_mall_customers.csv\", index=False)\n",
    "print(\"\\nCleaned dataset saved as 'cleaned_mall_customers.csv'\")\n",
    "print(\"Final Shape:\", df.shape)"
   ]
  }
 ],
 "metadata": {
  "kernelspec": {
   "display_name": "Python 3",
   "language": "python",
   "name": "python3"
  },
  "language_info": {
   "codemirror_mode": {
    "name": "ipython",
    "version": 3
   },
   "file_extension": ".py",
   "mimetype": "text/x-python",
   "name": "python",
   "nbconvert_exporter": "python",
   "pygments_lexer": "ipython3",
   "version": "3.9.6"
  }
 },
 "nbformat": 4,
 "nbformat_minor": 5
}
